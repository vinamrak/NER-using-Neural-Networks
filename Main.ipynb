{
  "nbformat": 4,
  "nbformat_minor": 5,
  "metadata": {
    "kernelspec": {
      "display_name": "Python 3",
      "language": "python",
      "name": "python3"
    },
    "language_info": {
      "codemirror_mode": {
        "name": "ipython",
        "version": 3
      },
      "file_extension": ".py",
      "mimetype": "text/x-python",
      "name": "python",
      "nbconvert_exporter": "python",
      "pygments_lexer": "ipython3",
      "version": "3.9.5"
    },
    "colab": {
      "name": "Main.ipynb",
      "provenance": [],
      "collapsed_sections": [],
      "include_colab_link": true
    }
  },
  "cells": [
    {
      "cell_type": "markdown",
      "metadata": {
        "id": "view-in-github",
        "colab_type": "text"
      },
      "source": [
        "<a href=\"https://colab.research.google.com/github/vinamrak/NER-using-Neural-Networks/blob/master/Main.ipynb\" target=\"_parent\"><img src=\"https://colab.research.google.com/assets/colab-badge.svg\" alt=\"Open In Colab\"/></a>"
      ]
    },
    {
      "cell_type": "markdown",
      "metadata": {
        "id": "lbDB22XSImG-"
      },
      "source": [
        "Add all the necessary imports"
      ],
      "id": "lbDB22XSImG-"
    },
    {
      "cell_type": "markdown",
      "metadata": {
        "id": "aqxQ725xI1mk"
      },
      "source": [
        "This project uses the **ner_dataset**. Load it using pandas. \n",
        "The data can have NaN (null) values. These are removed by replacing them with the previous value in the same column of the dataframe using `fillna` method"
      ],
      "id": "aqxQ725xI1mk"
    },
    {
      "cell_type": "code",
      "metadata": {
        "colab": {
          "base_uri": "https://localhost:8080/",
          "height": 1000
        },
        "id": "itqniWA2h1as",
        "outputId": "5e9828ef-4065-47a6-c968-6009b0e5d888"
      },
      "source": [
        "!pip install seqeval==0.0.5\n",
        "!pip install keras==2.2.4\n",
        "!git clone https://www.github.com/keras-team/keras-contrib.git\n",
        "!cd keras-contrib\n",
        "!pip install tensorflow==1.14.0"
      ],
      "id": "itqniWA2h1as",
      "execution_count": 28,
      "outputs": [
        {
          "output_type": "stream",
          "text": [
            "Collecting seqeval==0.0.5\n",
            "  Downloading https://files.pythonhosted.org/packages/dc/b6/6e58b54c0fa343f9c24969cb887f3e76c13d16dded640cc620a914f27dc4/seqeval-0.0.5-py3-none-any.whl\n",
            "Requirement already satisfied: numpy>=1.14.0 in /usr/local/lib/python3.7/dist-packages (from seqeval==0.0.5) (1.19.5)\n",
            "Installing collected packages: seqeval\n",
            "  Found existing installation: seqeval 1.2.2\n",
            "    Uninstalling seqeval-1.2.2:\n",
            "      Successfully uninstalled seqeval-1.2.2\n",
            "Successfully installed seqeval-0.0.5\n"
          ],
          "name": "stdout"
        },
        {
          "output_type": "display_data",
          "data": {
            "application/vnd.colab-display-data+json": {
              "pip_warning": {
                "packages": [
                  "seqeval"
                ]
              }
            }
          },
          "metadata": {
            "tags": []
          }
        },
        {
          "output_type": "stream",
          "text": [
            "Collecting keras==2.2.4\n",
            "\u001b[?25l  Downloading https://files.pythonhosted.org/packages/5e/10/aa32dad071ce52b5502266b5c659451cfd6ffcbf14e6c8c4f16c0ff5aaab/Keras-2.2.4-py2.py3-none-any.whl (312kB)\n",
            "\r\u001b[K     |█                               | 10kB 19.5MB/s eta 0:00:01\r\u001b[K     |██                              | 20kB 20.7MB/s eta 0:00:01\r\u001b[K     |███▏                            | 30kB 10.6MB/s eta 0:00:01\r\u001b[K     |████▏                           | 40kB 8.7MB/s eta 0:00:01\r\u001b[K     |█████▎                          | 51kB 5.4MB/s eta 0:00:01\r\u001b[K     |██████▎                         | 61kB 6.3MB/s eta 0:00:01\r\u001b[K     |███████▍                        | 71kB 6.4MB/s eta 0:00:01\r\u001b[K     |████████▍                       | 81kB 6.3MB/s eta 0:00:01\r\u001b[K     |█████████▍                      | 92kB 6.3MB/s eta 0:00:01\r\u001b[K     |██████████▌                     | 102kB 6.8MB/s eta 0:00:01\r\u001b[K     |███████████▌                    | 112kB 6.8MB/s eta 0:00:01\r\u001b[K     |████████████▋                   | 122kB 6.8MB/s eta 0:00:01\r\u001b[K     |█████████████▋                  | 133kB 6.8MB/s eta 0:00:01\r\u001b[K     |██████████████▊                 | 143kB 6.8MB/s eta 0:00:01\r\u001b[K     |███████████████▊                | 153kB 6.8MB/s eta 0:00:01\r\u001b[K     |████████████████▊               | 163kB 6.8MB/s eta 0:00:01\r\u001b[K     |█████████████████▉              | 174kB 6.8MB/s eta 0:00:01\r\u001b[K     |██████████████████▉             | 184kB 6.8MB/s eta 0:00:01\r\u001b[K     |████████████████████            | 194kB 6.8MB/s eta 0:00:01\r\u001b[K     |█████████████████████           | 204kB 6.8MB/s eta 0:00:01\r\u001b[K     |██████████████████████          | 215kB 6.8MB/s eta 0:00:01\r\u001b[K     |███████████████████████         | 225kB 6.8MB/s eta 0:00:01\r\u001b[K     |████████████████████████▏       | 235kB 6.8MB/s eta 0:00:01\r\u001b[K     |█████████████████████████▏      | 245kB 6.8MB/s eta 0:00:01\r\u001b[K     |██████████████████████████▏     | 256kB 6.8MB/s eta 0:00:01\r\u001b[K     |███████████████████████████▎    | 266kB 6.8MB/s eta 0:00:01\r\u001b[K     |████████████████████████████▎   | 276kB 6.8MB/s eta 0:00:01\r\u001b[K     |█████████████████████████████▍  | 286kB 6.8MB/s eta 0:00:01\r\u001b[K     |██████████████████████████████▍ | 296kB 6.8MB/s eta 0:00:01\r\u001b[K     |███████████████████████████████▌| 307kB 6.8MB/s eta 0:00:01\r\u001b[K     |████████████████████████████████| 317kB 6.8MB/s \n",
            "\u001b[?25hRequirement already satisfied: six>=1.9.0 in /usr/local/lib/python3.7/dist-packages (from keras==2.2.4) (1.15.0)\n",
            "Requirement already satisfied: h5py in /usr/local/lib/python3.7/dist-packages (from keras==2.2.4) (2.10.0)\n",
            "Requirement already satisfied: numpy>=1.9.1 in /usr/local/lib/python3.7/dist-packages (from keras==2.2.4) (1.19.5)\n",
            "Collecting keras-applications>=1.0.6\n",
            "\u001b[?25l  Downloading https://files.pythonhosted.org/packages/71/e3/19762fdfc62877ae9102edf6342d71b28fbfd9dea3d2f96a882ce099b03f/Keras_Applications-1.0.8-py3-none-any.whl (50kB)\n",
            "\u001b[K     |████████████████████████████████| 51kB 4.4MB/s \n",
            "\u001b[?25hRequirement already satisfied: pyyaml in /usr/local/lib/python3.7/dist-packages (from keras==2.2.4) (3.13)\n",
            "Requirement already satisfied: keras-preprocessing>=1.0.5 in /usr/local/lib/python3.7/dist-packages (from keras==2.2.4) (1.1.2)\n",
            "Requirement already satisfied: scipy>=0.14 in /usr/local/lib/python3.7/dist-packages (from keras==2.2.4) (1.4.1)\n",
            "Installing collected packages: keras-applications, keras\n",
            "  Found existing installation: Keras 2.4.3\n",
            "    Uninstalling Keras-2.4.3:\n",
            "      Successfully uninstalled Keras-2.4.3\n",
            "Successfully installed keras-2.2.4 keras-applications-1.0.8\n"
          ],
          "name": "stdout"
        },
        {
          "output_type": "display_data",
          "data": {
            "application/vnd.colab-display-data+json": {
              "pip_warning": {
                "packages": [
                  "keras"
                ]
              }
            }
          },
          "metadata": {
            "tags": []
          }
        },
        {
          "output_type": "stream",
          "text": [
            "Cloning into 'keras-contrib'...\n",
            "warning: redirecting to https://github.com/keras-team/keras-contrib.git/\n",
            "remote: Enumerating objects: 3634, done.\u001b[K\n",
            "remote: Total 3634 (delta 0), reused 0 (delta 0), pack-reused 3634\u001b[K\n",
            "Receiving objects: 100% (3634/3634), 861.24 KiB | 7.36 MiB/s, done.\n",
            "Resolving deltas: 100% (2330/2330), done.\n",
            "Collecting tensorflow==1.14.0\n",
            "\u001b[?25l  Downloading https://files.pythonhosted.org/packages/f4/28/96efba1a516cdacc2e2d6d081f699c001d414cc8ca3250e6d59ae657eb2b/tensorflow-1.14.0-cp37-cp37m-manylinux1_x86_64.whl (109.3MB)\n",
            "\u001b[K     |████████████████████████████████| 109.3MB 89kB/s \n",
            "\u001b[?25hRequirement already satisfied: six>=1.10.0 in /usr/local/lib/python3.7/dist-packages (from tensorflow==1.14.0) (1.15.0)\n",
            "Collecting tensorboard<1.15.0,>=1.14.0\n",
            "\u001b[?25l  Downloading https://files.pythonhosted.org/packages/91/2d/2ed263449a078cd9c8a9ba50ebd50123adf1f8cfbea1492f9084169b89d9/tensorboard-1.14.0-py3-none-any.whl (3.1MB)\n",
            "\u001b[K     |████████████████████████████████| 3.2MB 33.5MB/s \n",
            "\u001b[?25hRequirement already satisfied: termcolor>=1.1.0 in /usr/local/lib/python3.7/dist-packages (from tensorflow==1.14.0) (1.1.0)\n",
            "Requirement already satisfied: protobuf>=3.6.1 in /usr/local/lib/python3.7/dist-packages (from tensorflow==1.14.0) (3.12.4)\n",
            "Requirement already satisfied: astor>=0.6.0 in /usr/local/lib/python3.7/dist-packages (from tensorflow==1.14.0) (0.8.1)\n",
            "Requirement already satisfied: wheel>=0.26 in /usr/local/lib/python3.7/dist-packages (from tensorflow==1.14.0) (0.36.2)\n",
            "Requirement already satisfied: absl-py>=0.7.0 in /usr/local/lib/python3.7/dist-packages (from tensorflow==1.14.0) (0.12.0)\n",
            "Requirement already satisfied: numpy<2.0,>=1.14.5 in /usr/local/lib/python3.7/dist-packages (from tensorflow==1.14.0) (1.19.5)\n",
            "Requirement already satisfied: keras-preprocessing>=1.0.5 in /usr/local/lib/python3.7/dist-packages (from tensorflow==1.14.0) (1.1.2)\n",
            "Requirement already satisfied: google-pasta>=0.1.6 in /usr/local/lib/python3.7/dist-packages (from tensorflow==1.14.0) (0.2.0)\n",
            "Requirement already satisfied: gast>=0.2.0 in /usr/local/lib/python3.7/dist-packages (from tensorflow==1.14.0) (0.3.3)\n",
            "Requirement already satisfied: keras-applications>=1.0.6 in /usr/local/lib/python3.7/dist-packages (from tensorflow==1.14.0) (1.0.8)\n",
            "Requirement already satisfied: grpcio>=1.8.6 in /usr/local/lib/python3.7/dist-packages (from tensorflow==1.14.0) (1.32.0)\n",
            "Requirement already satisfied: wrapt>=1.11.1 in /usr/local/lib/python3.7/dist-packages (from tensorflow==1.14.0) (1.12.1)\n",
            "Collecting tensorflow-estimator<1.15.0rc0,>=1.14.0rc0\n",
            "\u001b[?25l  Downloading https://files.pythonhosted.org/packages/3c/d5/21860a5b11caf0678fbc8319341b0ae21a07156911132e0e71bffed0510d/tensorflow_estimator-1.14.0-py2.py3-none-any.whl (488kB)\n",
            "\u001b[K     |████████████████████████████████| 491kB 34.2MB/s \n",
            "\u001b[?25hRequirement already satisfied: setuptools>=41.0.0 in /usr/local/lib/python3.7/dist-packages (from tensorboard<1.15.0,>=1.14.0->tensorflow==1.14.0) (56.1.0)\n",
            "Requirement already satisfied: markdown>=2.6.8 in /usr/local/lib/python3.7/dist-packages (from tensorboard<1.15.0,>=1.14.0->tensorflow==1.14.0) (3.3.4)\n",
            "Requirement already satisfied: werkzeug>=0.11.15 in /usr/local/lib/python3.7/dist-packages (from tensorboard<1.15.0,>=1.14.0->tensorflow==1.14.0) (2.0.0)\n",
            "Requirement already satisfied: h5py in /usr/local/lib/python3.7/dist-packages (from keras-applications>=1.0.6->tensorflow==1.14.0) (2.10.0)\n",
            "Requirement already satisfied: importlib-metadata; python_version < \"3.8\" in /usr/local/lib/python3.7/dist-packages (from markdown>=2.6.8->tensorboard<1.15.0,>=1.14.0->tensorflow==1.14.0) (4.0.1)\n",
            "Requirement already satisfied: typing-extensions>=3.6.4; python_version < \"3.8\" in /usr/local/lib/python3.7/dist-packages (from importlib-metadata; python_version < \"3.8\"->markdown>=2.6.8->tensorboard<1.15.0,>=1.14.0->tensorflow==1.14.0) (3.7.4.3)\n",
            "Requirement already satisfied: zipp>=0.5 in /usr/local/lib/python3.7/dist-packages (from importlib-metadata; python_version < \"3.8\"->markdown>=2.6.8->tensorboard<1.15.0,>=1.14.0->tensorflow==1.14.0) (3.4.1)\n",
            "Installing collected packages: tensorboard, tensorflow-estimator, tensorflow\n",
            "  Found existing installation: tensorboard 2.4.1\n",
            "    Uninstalling tensorboard-2.4.1:\n",
            "      Successfully uninstalled tensorboard-2.4.1\n",
            "  Found existing installation: tensorflow-estimator 2.4.0\n",
            "    Uninstalling tensorflow-estimator-2.4.0:\n",
            "      Successfully uninstalled tensorflow-estimator-2.4.0\n",
            "  Found existing installation: tensorflow 2.4.1\n",
            "    Uninstalling tensorflow-2.4.1:\n",
            "      Successfully uninstalled tensorflow-2.4.1\n",
            "Successfully installed tensorboard-1.14.0 tensorflow-1.14.0 tensorflow-estimator-1.14.0\n"
          ],
          "name": "stdout"
        },
        {
          "output_type": "display_data",
          "data": {
            "application/vnd.colab-display-data+json": {
              "pip_warning": {
                "packages": [
                  "tensorboard",
                  "tensorflow"
                ]
              }
            }
          },
          "metadata": {
            "tags": []
          }
        },
        {
          "output_type": "stream",
          "text": [
            "python3: can't open file 'setup.py': [Errno 2] No such file or directory\n"
          ],
          "name": "stdout"
        }
      ]
    },
    {
      "cell_type": "code",
      "metadata": {
        "id": "3113bc9f",
        "colab": {
          "base_uri": "https://localhost:8080/"
        },
        "outputId": "038ef290-97f2-4a4c-9912-6d2e0f632aab"
      },
      "source": [
        "import pandas as pd\n",
        "import numpy as np\n",
        "\n",
        "from keras.preprocessing.sequence import pad_sequences\n",
        "from keras.utils.np_utils import to_categorical\n",
        "from keras.models import Model, Input\n",
        "from keras.layers import LSTM, Embedding, Dense, TimeDistributed, Dropout, Bidirectional\n",
        "from keras_contrib.layers import CRF\n",
        "\n",
        "from keras_contrib.utils import save_load_utils\n",
        "\n",
        "from seqeval.metrics import precision_score, recall_score, f1_score, classification_report\n",
        "from sklearn.model_selection import train_test_split"
      ],
      "id": "3113bc9f",
      "execution_count": 1,
      "outputs": [
        {
          "output_type": "stream",
          "text": [
            "Using TensorFlow backend.\n",
            "/usr/local/lib/python3.7/dist-packages/tensorflow/python/framework/dtypes.py:516: FutureWarning: Passing (type, 1) or '1type' as a synonym of type is deprecated; in a future version of numpy, it will be understood as (type, (1,)) / '(1,)type'.\n",
            "  _np_qint8 = np.dtype([(\"qint8\", np.int8, 1)])\n",
            "/usr/local/lib/python3.7/dist-packages/tensorflow/python/framework/dtypes.py:517: FutureWarning: Passing (type, 1) or '1type' as a synonym of type is deprecated; in a future version of numpy, it will be understood as (type, (1,)) / '(1,)type'.\n",
            "  _np_quint8 = np.dtype([(\"quint8\", np.uint8, 1)])\n",
            "/usr/local/lib/python3.7/dist-packages/tensorflow/python/framework/dtypes.py:518: FutureWarning: Passing (type, 1) or '1type' as a synonym of type is deprecated; in a future version of numpy, it will be understood as (type, (1,)) / '(1,)type'.\n",
            "  _np_qint16 = np.dtype([(\"qint16\", np.int16, 1)])\n",
            "/usr/local/lib/python3.7/dist-packages/tensorflow/python/framework/dtypes.py:519: FutureWarning: Passing (type, 1) or '1type' as a synonym of type is deprecated; in a future version of numpy, it will be understood as (type, (1,)) / '(1,)type'.\n",
            "  _np_quint16 = np.dtype([(\"quint16\", np.uint16, 1)])\n",
            "/usr/local/lib/python3.7/dist-packages/tensorflow/python/framework/dtypes.py:520: FutureWarning: Passing (type, 1) or '1type' as a synonym of type is deprecated; in a future version of numpy, it will be understood as (type, (1,)) / '(1,)type'.\n",
            "  _np_qint32 = np.dtype([(\"qint32\", np.int32, 1)])\n",
            "/usr/local/lib/python3.7/dist-packages/tensorflow/python/framework/dtypes.py:525: FutureWarning: Passing (type, 1) or '1type' as a synonym of type is deprecated; in a future version of numpy, it will be understood as (type, (1,)) / '(1,)type'.\n",
            "  np_resource = np.dtype([(\"resource\", np.ubyte, 1)])\n",
            "/usr/local/lib/python3.7/dist-packages/tensorboard/compat/tensorflow_stub/dtypes.py:541: FutureWarning: Passing (type, 1) or '1type' as a synonym of type is deprecated; in a future version of numpy, it will be understood as (type, (1,)) / '(1,)type'.\n",
            "  _np_qint8 = np.dtype([(\"qint8\", np.int8, 1)])\n",
            "/usr/local/lib/python3.7/dist-packages/tensorboard/compat/tensorflow_stub/dtypes.py:542: FutureWarning: Passing (type, 1) or '1type' as a synonym of type is deprecated; in a future version of numpy, it will be understood as (type, (1,)) / '(1,)type'.\n",
            "  _np_quint8 = np.dtype([(\"quint8\", np.uint8, 1)])\n",
            "/usr/local/lib/python3.7/dist-packages/tensorboard/compat/tensorflow_stub/dtypes.py:543: FutureWarning: Passing (type, 1) or '1type' as a synonym of type is deprecated; in a future version of numpy, it will be understood as (type, (1,)) / '(1,)type'.\n",
            "  _np_qint16 = np.dtype([(\"qint16\", np.int16, 1)])\n",
            "/usr/local/lib/python3.7/dist-packages/tensorboard/compat/tensorflow_stub/dtypes.py:544: FutureWarning: Passing (type, 1) or '1type' as a synonym of type is deprecated; in a future version of numpy, it will be understood as (type, (1,)) / '(1,)type'.\n",
            "  _np_quint16 = np.dtype([(\"quint16\", np.uint16, 1)])\n",
            "/usr/local/lib/python3.7/dist-packages/tensorboard/compat/tensorflow_stub/dtypes.py:545: FutureWarning: Passing (type, 1) or '1type' as a synonym of type is deprecated; in a future version of numpy, it will be understood as (type, (1,)) / '(1,)type'.\n",
            "  _np_qint32 = np.dtype([(\"qint32\", np.int32, 1)])\n",
            "/usr/local/lib/python3.7/dist-packages/tensorboard/compat/tensorflow_stub/dtypes.py:550: FutureWarning: Passing (type, 1) or '1type' as a synonym of type is deprecated; in a future version of numpy, it will be understood as (type, (1,)) / '(1,)type'.\n",
            "  np_resource = np.dtype([(\"resource\", np.ubyte, 1)])\n"
          ],
          "name": "stderr"
        }
      ]
    },
    {
      "cell_type": "code",
      "metadata": {
        "id": "DiNDoR2IIY3O"
      },
      "source": [
        "data = pd.read_csv(\"ner_dataset.csv\", encoding=\"latin1\")\n",
        "data = data.fillna(method=\"ffill\")"
      ],
      "id": "DiNDoR2IIY3O",
      "execution_count": 2,
      "outputs": []
    },
    {
      "cell_type": "code",
      "metadata": {
        "colab": {
          "base_uri": "https://localhost:8080/",
          "height": 343
        },
        "id": "cb807605",
        "outputId": "dfdefe7c-5e46-45c6-d0f0-3c9d1cd9af96"
      },
      "source": [
        "data.tail(10)"
      ],
      "id": "cb807605",
      "execution_count": 3,
      "outputs": [
        {
          "output_type": "execute_result",
          "data": {
            "text/html": [
              "<div>\n",
              "<style scoped>\n",
              "    .dataframe tbody tr th:only-of-type {\n",
              "        vertical-align: middle;\n",
              "    }\n",
              "\n",
              "    .dataframe tbody tr th {\n",
              "        vertical-align: top;\n",
              "    }\n",
              "\n",
              "    .dataframe thead th {\n",
              "        text-align: right;\n",
              "    }\n",
              "</style>\n",
              "<table border=\"1\" class=\"dataframe\">\n",
              "  <thead>\n",
              "    <tr style=\"text-align: right;\">\n",
              "      <th></th>\n",
              "      <th>Sentence #</th>\n",
              "      <th>Word</th>\n",
              "      <th>POS</th>\n",
              "      <th>Tag</th>\n",
              "    </tr>\n",
              "  </thead>\n",
              "  <tbody>\n",
              "    <tr>\n",
              "      <th>1048565</th>\n",
              "      <td>Sentence: 47958</td>\n",
              "      <td>impact</td>\n",
              "      <td>NN</td>\n",
              "      <td>O</td>\n",
              "    </tr>\n",
              "    <tr>\n",
              "      <th>1048566</th>\n",
              "      <td>Sentence: 47958</td>\n",
              "      <td>.</td>\n",
              "      <td>.</td>\n",
              "      <td>O</td>\n",
              "    </tr>\n",
              "    <tr>\n",
              "      <th>1048567</th>\n",
              "      <td>Sentence: 47959</td>\n",
              "      <td>Indian</td>\n",
              "      <td>JJ</td>\n",
              "      <td>B-gpe</td>\n",
              "    </tr>\n",
              "    <tr>\n",
              "      <th>1048568</th>\n",
              "      <td>Sentence: 47959</td>\n",
              "      <td>forces</td>\n",
              "      <td>NNS</td>\n",
              "      <td>O</td>\n",
              "    </tr>\n",
              "    <tr>\n",
              "      <th>1048569</th>\n",
              "      <td>Sentence: 47959</td>\n",
              "      <td>said</td>\n",
              "      <td>VBD</td>\n",
              "      <td>O</td>\n",
              "    </tr>\n",
              "    <tr>\n",
              "      <th>1048570</th>\n",
              "      <td>Sentence: 47959</td>\n",
              "      <td>they</td>\n",
              "      <td>PRP</td>\n",
              "      <td>O</td>\n",
              "    </tr>\n",
              "    <tr>\n",
              "      <th>1048571</th>\n",
              "      <td>Sentence: 47959</td>\n",
              "      <td>responded</td>\n",
              "      <td>VBD</td>\n",
              "      <td>O</td>\n",
              "    </tr>\n",
              "    <tr>\n",
              "      <th>1048572</th>\n",
              "      <td>Sentence: 47959</td>\n",
              "      <td>to</td>\n",
              "      <td>TO</td>\n",
              "      <td>O</td>\n",
              "    </tr>\n",
              "    <tr>\n",
              "      <th>1048573</th>\n",
              "      <td>Sentence: 47959</td>\n",
              "      <td>the</td>\n",
              "      <td>DT</td>\n",
              "      <td>O</td>\n",
              "    </tr>\n",
              "    <tr>\n",
              "      <th>1048574</th>\n",
              "      <td>Sentence: 47959</td>\n",
              "      <td>attack</td>\n",
              "      <td>NN</td>\n",
              "      <td>O</td>\n",
              "    </tr>\n",
              "  </tbody>\n",
              "</table>\n",
              "</div>"
            ],
            "text/plain": [
              "              Sentence #       Word  POS    Tag\n",
              "1048565  Sentence: 47958     impact   NN      O\n",
              "1048566  Sentence: 47958          .    .      O\n",
              "1048567  Sentence: 47959     Indian   JJ  B-gpe\n",
              "1048568  Sentence: 47959     forces  NNS      O\n",
              "1048569  Sentence: 47959       said  VBD      O\n",
              "1048570  Sentence: 47959       they  PRP      O\n",
              "1048571  Sentence: 47959  responded  VBD      O\n",
              "1048572  Sentence: 47959         to   TO      O\n",
              "1048573  Sentence: 47959        the   DT      O\n",
              "1048574  Sentence: 47959     attack   NN      O"
            ]
          },
          "metadata": {
            "tags": []
          },
          "execution_count": 3
        }
      ]
    },
    {
      "cell_type": "markdown",
      "metadata": {
        "id": "Og1MJBE3Kx6J"
      },
      "source": [
        "Find the total no: of words and tags in the dataset"
      ],
      "id": "Og1MJBE3Kx6J"
    },
    {
      "cell_type": "code",
      "metadata": {
        "colab": {
          "base_uri": "https://localhost:8080/"
        },
        "id": "c48c8ba1",
        "outputId": "f28ea2ad-15ee-4f1a-e8b3-01e16f21ae09"
      },
      "source": [
        "words = list(set(data[\"Word\"].values))\n",
        "words.append(\"ENDPAD\")\n",
        "n_words = len(words); n_words"
      ],
      "id": "c48c8ba1",
      "execution_count": 4,
      "outputs": [
        {
          "output_type": "execute_result",
          "data": {
            "text/plain": [
              "35179"
            ]
          },
          "metadata": {
            "tags": []
          },
          "execution_count": 4
        }
      ]
    },
    {
      "cell_type": "code",
      "metadata": {
        "colab": {
          "base_uri": "https://localhost:8080/"
        },
        "id": "5dd6dbe6",
        "outputId": "ba386533-553c-4454-9eaf-fca4d2ebea24"
      },
      "source": [
        "tags = list(set(data[\"Tag\"].values))\n",
        "n_tags = len(tags); n_tags"
      ],
      "id": "5dd6dbe6",
      "execution_count": 5,
      "outputs": [
        {
          "output_type": "execute_result",
          "data": {
            "text/plain": [
              "17"
            ]
          },
          "metadata": {
            "tags": []
          },
          "execution_count": 5
        }
      ]
    },
    {
      "cell_type": "markdown",
      "metadata": {
        "id": "LocM3IxbOZKb"
      },
      "source": [
        "The data set is of the form:<br>\n",
        "Sentence X -> Word 1 -> POS1 -> Tag1<br>\n",
        "Sentence X -> Word 2 -> POS2 -> Tag2<br>\n",
        "Sentence X -> Word 3 -> POS3 -> Tag3<br>\n",
        ".<br>\n",
        ".<br>\n",
        "Sentence X+1 -> Word 1 -> POS1 -> Tag1\n",
        "\n",
        "This is converted to:<br>\n",
        "Sentence X -> [(Word1, POS1, Tag1), (Word2, POS2, Tag2), (Word3, POS3, Tag3) . . . . ]]<br>\n",
        "Sentence X+1 -> [(Word1, POS1, Tag1), (Word2, POS2, Tag2), (Word3, POS3, Tag3) . . . . ]]<br>\n",
        ".<br>\n",
        ".<br>"
      ],
      "id": "LocM3IxbOZKb"
    },
    {
      "cell_type": "code",
      "metadata": {
        "id": "07765652"
      },
      "source": [
        "class SentenceGetter(object):\n",
        "    \n",
        "    def __init__(self, data):\n",
        "        self.n_sent = 1\n",
        "        self.data = data\n",
        "        self.empty = False\n",
        "        agg_func = lambda s: [(w, p, t) for w, p, t in zip(s[\"Word\"].values.tolist(),\n",
        "                                                           s[\"POS\"].values.tolist(),\n",
        "                                                           s[\"Tag\"].values.tolist())]\n",
        "        self.grouped = self.data.groupby(\"Sentence #\").apply(agg_func)\n",
        "        self.sentences = [s for s in self.grouped]\n",
        "    \n",
        "    #This gets the next grouped sentence i.e allows you to get sentences one by one\n",
        "    def get_next(self):\n",
        "        try:\n",
        "            s = self.grouped[\"Sentence: {}\".format(self.n_sent)]\n",
        "            self.n_sent += 1\n",
        "            return s\n",
        "        except:\n",
        "            return None"
      ],
      "id": "07765652",
      "execution_count": 6,
      "outputs": []
    },
    {
      "cell_type": "code",
      "metadata": {
        "id": "2b6c0e3f"
      },
      "source": [
        "getter = SentenceGetter(data)"
      ],
      "id": "2b6c0e3f",
      "execution_count": 7,
      "outputs": []
    },
    {
      "cell_type": "code",
      "metadata": {
        "colab": {
          "base_uri": "https://localhost:8080/"
        },
        "id": "b66ad42e",
        "outputId": "171e964f-fde6-4168-9523-753dd8c48276"
      },
      "source": [
        "sent = getter.get_next()\n",
        "print(sent)"
      ],
      "id": "b66ad42e",
      "execution_count": 8,
      "outputs": [
        {
          "output_type": "stream",
          "text": [
            "[('Thousands', 'NNS', 'O'), ('of', 'IN', 'O'), ('demonstrators', 'NNS', 'O'), ('have', 'VBP', 'O'), ('marched', 'VBN', 'O'), ('through', 'IN', 'O'), ('London', 'NNP', 'B-geo'), ('to', 'TO', 'O'), ('protest', 'VB', 'O'), ('the', 'DT', 'O'), ('war', 'NN', 'O'), ('in', 'IN', 'O'), ('Iraq', 'NNP', 'B-geo'), ('and', 'CC', 'O'), ('demand', 'VB', 'O'), ('the', 'DT', 'O'), ('withdrawal', 'NN', 'O'), ('of', 'IN', 'O'), ('British', 'JJ', 'B-gpe'), ('troops', 'NNS', 'O'), ('from', 'IN', 'O'), ('that', 'DT', 'O'), ('country', 'NN', 'O'), ('.', '.', 'O')]\n"
          ],
          "name": "stdout"
        }
      ]
    },
    {
      "cell_type": "code",
      "metadata": {
        "id": "cc5d3255"
      },
      "source": [
        "sentences = getter.sentences"
      ],
      "id": "cc5d3255",
      "execution_count": 9,
      "outputs": []
    },
    {
      "cell_type": "markdown",
      "metadata": {
        "id": "7eC1Gf4bTF2J"
      },
      "source": [
        "Assign numerical label to individual words and tags. This is creating a dictionary of words to their corresponding position (index + 1) in the list."
      ],
      "id": "7eC1Gf4bTF2J"
    },
    {
      "cell_type": "code",
      "metadata": {
        "id": "1565eab5"
      },
      "source": [
        "max_len = 75\n",
        "word2idx = {w: i + 1 for i, w in enumerate(words)}\n",
        "tag2idx = {t: i for i, t in enumerate(tags)}"
      ],
      "id": "1565eab5",
      "execution_count": 10,
      "outputs": []
    },
    {
      "cell_type": "code",
      "metadata": {
        "colab": {
          "base_uri": "https://localhost:8080/"
        },
        "id": "6916e5bb",
        "outputId": "59027adf-c073-46d7-c539-25d01693145f"
      },
      "source": [
        "word2idx[\"Obama\"]\n"
      ],
      "id": "6916e5bb",
      "execution_count": 11,
      "outputs": [
        {
          "output_type": "execute_result",
          "data": {
            "text/plain": [
              "9465"
            ]
          },
          "metadata": {
            "tags": []
          },
          "execution_count": 11
        }
      ]
    },
    {
      "cell_type": "code",
      "metadata": {
        "colab": {
          "base_uri": "https://localhost:8080/"
        },
        "id": "7f3f9916",
        "outputId": "4ab32d55-6547-451d-9d33-e0eb0b353e61"
      },
      "source": [
        "tag2idx"
      ],
      "id": "7f3f9916",
      "execution_count": 12,
      "outputs": [
        {
          "output_type": "execute_result",
          "data": {
            "text/plain": [
              "{'B-art': 14,\n",
              " 'B-eve': 3,\n",
              " 'B-geo': 5,\n",
              " 'B-gpe': 0,\n",
              " 'B-nat': 9,\n",
              " 'B-org': 10,\n",
              " 'B-per': 7,\n",
              " 'B-tim': 16,\n",
              " 'I-art': 11,\n",
              " 'I-eve': 13,\n",
              " 'I-geo': 4,\n",
              " 'I-gpe': 2,\n",
              " 'I-nat': 12,\n",
              " 'I-org': 6,\n",
              " 'I-per': 1,\n",
              " 'I-tim': 8,\n",
              " 'O': 15}"
            ]
          },
          "metadata": {
            "tags": []
          },
          "execution_count": 12
        }
      ]
    },
    {
      "cell_type": "code",
      "metadata": {
        "colab": {
          "base_uri": "https://localhost:8080/"
        },
        "id": "4629367c",
        "outputId": "c311bfc3-abf4-48d5-9c43-592545147fb1"
      },
      "source": [
        "tag2idx[\"B-geo\"]\n"
      ],
      "id": "4629367c",
      "execution_count": 13,
      "outputs": [
        {
          "output_type": "execute_result",
          "data": {
            "text/plain": [
              "5"
            ]
          },
          "metadata": {
            "tags": []
          },
          "execution_count": 13
        }
      ]
    },
    {
      "cell_type": "code",
      "metadata": {
        "colab": {
          "base_uri": "https://localhost:8080/"
        },
        "id": "M0Wky9Mpm1kh",
        "outputId": "c297d379-fb15-4f90-ff2a-6a76fd0ef0a0"
      },
      "source": [
        "n_words"
      ],
      "id": "M0Wky9Mpm1kh",
      "execution_count": 14,
      "outputs": [
        {
          "output_type": "execute_result",
          "data": {
            "text/plain": [
              "35179"
            ]
          },
          "metadata": {
            "tags": []
          },
          "execution_count": 14
        }
      ]
    },
    {
      "cell_type": "markdown",
      "metadata": {
        "id": "sFsN_JFnUxjb"
      },
      "source": [
        "Now we map the sentences to a sequence of numbers and then pad the sequence. Note that we increased the index of the words by one to use zero as a padding value. This is done because we want to use the `mask_zero` parameter of the embedding layer to ignore inputs with value zero."
      ],
      "id": "sFsN_JFnUxjb"
    },
    {
      "cell_type": "code",
      "metadata": {
        "id": "7757df56"
      },
      "source": [
        "X = [[word2idx[w[0]] for w in s] for s in sentences]"
      ],
      "id": "7757df56",
      "execution_count": 15,
      "outputs": []
    },
    {
      "cell_type": "code",
      "metadata": {
        "id": "39a5e6f1"
      },
      "source": [
        "X = pad_sequences(maxlen=max_len, sequences=X, padding=\"post\", value=0)"
      ],
      "id": "39a5e6f1",
      "execution_count": 16,
      "outputs": []
    },
    {
      "cell_type": "code",
      "metadata": {
        "id": "5754c992"
      },
      "source": [
        "y = [[tag2idx[w[2]] for w in s] for s in sentences]"
      ],
      "id": "5754c992",
      "execution_count": 17,
      "outputs": []
    },
    {
      "cell_type": "code",
      "metadata": {
        "id": "3673dece"
      },
      "source": [
        "y = pad_sequences(maxlen=max_len, sequences=y, padding=\"post\", value=tag2idx[\"O\"])"
      ],
      "id": "3673dece",
      "execution_count": 18,
      "outputs": []
    },
    {
      "cell_type": "markdown",
      "metadata": {
        "id": "cTXyFnA2ho65"
      },
      "source": [
        "Perform one-hot encoding on the labels to convert the numerical value into vectors. `to_categorical` from the *Keras* library is used for this purpose. For eg, val=1 is represented as [1 0 0 0 .... 0] (number of places = total number of classes) and val = 2 as [0 1 0 0 0 ... 0] and so on\n",
        "\n"
      ],
      "id": "cTXyFnA2ho65"
    },
    {
      "cell_type": "code",
      "metadata": {
        "id": "85c1c016"
      },
      "source": [
        "y = [to_categorical(i, num_classes=n_tags) for i in y]"
      ],
      "id": "85c1c016",
      "execution_count": 19,
      "outputs": []
    },
    {
      "cell_type": "markdown",
      "metadata": {
        "id": "XPAq2biNja9b"
      },
      "source": [
        "Split the dataset into train and test random subset with a test_size of 10%. This is done with the `train_test_split` function in the *sklearn* library"
      ],
      "id": "XPAq2biNja9b"
    },
    {
      "cell_type": "code",
      "metadata": {
        "id": "6212a692"
      },
      "source": [
        "X_tr, X_te, y_tr, y_te = train_test_split(X, y, test_size=0.1)"
      ],
      "id": "6212a692",
      "execution_count": 20,
      "outputs": []
    },
    {
      "cell_type": "markdown",
      "metadata": {
        "id": "mY1f3O0npWzf"
      },
      "source": [
        "A Tensorflow model is built with Bidiectional LSTM and CRF layers:<br>\n",
        "![image.png](data:image/png;base64,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) <br>\n",
        "\n",
        "The model uses Bidirectional LSTM with CRF(Conditional Random Fields) to understand and pedict the tag of a given word based on its context. <br>\n",
        "Bidirectional LSTM: A Bidirectional LSTM, or biLSTM, is a sequence processing model that consists of two LSTMs: one taking the input in a forward direction, and the other in a backwards direction. BiLSTMs effectively increase the amount of information available to the network, improving the context available to the algorithm (e.g. knowing what words immediately follow and precede a word in a sentence).\n",
        "<br><br>\n",
        "Optimizer: It decides how to minimize the loss calculated by the Lososs Function by adjusting the weights and biases of the model Here, **RmsProp** optimizer is being used<br>\n",
        "\n",
        "Loss Function: It calculates the difference between the xpected and actual result in each epoch. Here **CRF Loss** function is used<br>\n",
        "\n",
        "Metric: This is used to display the history of the raining process. It tells how the model improves or impairs.\n",
        "\n",
        "\n"
      ],
      "id": "mY1f3O0npWzf"
    },
    {
      "cell_type": "code",
      "metadata": {
        "colab": {
          "base_uri": "https://localhost:8080/"
        },
        "id": "92cb5496",
        "outputId": "980bc8b1-5b2a-46e2-a644-badb5bf1da08"
      },
      "source": [
        "input = Input(shape=(max_len,))\n",
        "model = Embedding(input_dim=n_words + 1, output_dim=20,\n",
        "                  input_length=max_len, mask_zero=True)(input)  # 20-dim embedding\n",
        "model = Bidirectional(LSTM(units=50, return_sequences=True,\n",
        "                           recurrent_dropout=0.1))(model)  # variational biLSTM\n",
        "model = TimeDistributed(Dense(50, activation=\"relu\"))(model)  # a dense layer as suggested by neuralNer\n",
        "crf = CRF(n_tags)  # CRF layer\n",
        "out = crf(model)  # output\n",
        "model = Model(input, out)\n",
        "model.compile(optimizer=\"rmsprop\", loss=crf.loss_function, metrics=[crf.accuracy])\n",
        "model.summary()"
      ],
      "id": "92cb5496",
      "execution_count": 21,
      "outputs": [
        {
          "output_type": "stream",
          "text": [
            "WARNING:tensorflow:From /usr/local/lib/python3.7/dist-packages/keras/backend/tensorflow_backend.py:74: The name tf.get_default_graph is deprecated. Please use tf.compat.v1.get_default_graph instead.\n",
            "\n",
            "WARNING:tensorflow:From /usr/local/lib/python3.7/dist-packages/keras/backend/tensorflow_backend.py:517: The name tf.placeholder is deprecated. Please use tf.compat.v1.placeholder instead.\n",
            "\n",
            "WARNING:tensorflow:From /usr/local/lib/python3.7/dist-packages/keras/backend/tensorflow_backend.py:4138: The name tf.random_uniform is deprecated. Please use tf.random.uniform instead.\n",
            "\n",
            "WARNING:tensorflow:From /usr/local/lib/python3.7/dist-packages/keras/backend/tensorflow_backend.py:133: The name tf.placeholder_with_default is deprecated. Please use tf.compat.v1.placeholder_with_default instead.\n",
            "\n",
            "WARNING:tensorflow:From /usr/local/lib/python3.7/dist-packages/keras/backend/tensorflow_backend.py:3445: calling dropout (from tensorflow.python.ops.nn_ops) with keep_prob is deprecated and will be removed in a future version.\n",
            "Instructions for updating:\n",
            "Please use `rate` instead of `keep_prob`. Rate should be set to `rate = 1 - keep_prob`.\n",
            "WARNING:tensorflow:From /usr/local/lib/python3.7/dist-packages/keras/backend/tensorflow_backend.py:2974: add_dispatch_support.<locals>.wrapper (from tensorflow.python.ops.array_ops) is deprecated and will be removed in a future version.\n",
            "Instructions for updating:\n",
            "Use tf.where in 2.0, which has the same broadcast rule as np.where\n",
            "WARNING:tensorflow:From /usr/local/lib/python3.7/dist-packages/keras/optimizers.py:790: The name tf.train.Optimizer is deprecated. Please use tf.compat.v1.train.Optimizer instead.\n",
            "\n"
          ],
          "name": "stdout"
        },
        {
          "output_type": "stream",
          "text": [
            "/usr/local/lib/python3.7/dist-packages/keras_contrib/layers/crf.py:346: UserWarning: CRF.loss_function is deprecated and it might be removed in the future. Please use losses.crf_loss instead.\n",
            "  warnings.warn('CRF.loss_function is deprecated '\n",
            "/usr/local/lib/python3.7/dist-packages/keras_contrib/layers/crf.py:353: UserWarning: CRF.accuracy is deprecated and it might be removed in the future. Please use metrics.crf_accuracy\n",
            "  warnings.warn('CRF.accuracy is deprecated and it '\n"
          ],
          "name": "stderr"
        },
        {
          "output_type": "stream",
          "text": [
            "_________________________________________________________________\n",
            "Layer (type)                 Output Shape              Param #   \n",
            "=================================================================\n",
            "input_1 (InputLayer)         (None, 75)                0         \n",
            "_________________________________________________________________\n",
            "embedding_1 (Embedding)      (None, 75, 20)            703600    \n",
            "_________________________________________________________________\n",
            "bidirectional_1 (Bidirection (None, 75, 100)           28400     \n",
            "_________________________________________________________________\n",
            "time_distributed_1 (TimeDist (None, 75, 50)            5050      \n",
            "_________________________________________________________________\n",
            "crf_1 (CRF)                  (None, 75, 17)            1190      \n",
            "=================================================================\n",
            "Total params: 738,240\n",
            "Trainable params: 738,240\n",
            "Non-trainable params: 0\n",
            "_________________________________________________________________\n"
          ],
          "name": "stdout"
        }
      ]
    },
    {
      "cell_type": "markdown",
      "metadata": {
        "id": "pkOes6rhrphD"
      },
      "source": [
        "The model is fit(trained) on the training dataset we made earlier. "
      ],
      "id": "pkOes6rhrphD"
    },
    {
      "cell_type": "code",
      "metadata": {
        "colab": {
          "base_uri": "https://localhost:8080/"
        },
        "id": "Oa0acX82YRxP",
        "outputId": "1d796c8f-b48c-41ea-ea12-fb8ef4ae2900"
      },
      "source": [
        "history = model.fit(X_tr, np.array(y_tr), batch_size=32, epochs=5, validation_split=0.1, verbose=1)"
      ],
      "id": "Oa0acX82YRxP",
      "execution_count": 22,
      "outputs": [
        {
          "output_type": "stream",
          "text": [
            "WARNING:tensorflow:From /usr/local/lib/python3.7/dist-packages/keras/backend/tensorflow_backend.py:986: The name tf.assign_add is deprecated. Please use tf.compat.v1.assign_add instead.\n",
            "\n",
            "Train on 38846 samples, validate on 4317 samples\n",
            "Epoch 1/5\n",
            "38846/38846 [==============================] - 201s 5ms/step - loss: 8.9344 - crf_viterbi_accuracy: 0.9051 - val_loss: 8.8136 - val_crf_viterbi_accuracy: 0.9478\n",
            "Epoch 2/5\n",
            "38846/38846 [==============================] - 201s 5ms/step - loss: 8.7139 - crf_viterbi_accuracy: 0.9582 - val_loss: 8.7675 - val_crf_viterbi_accuracy: 0.9590\n",
            "Epoch 3/5\n",
            "38846/38846 [==============================] - 209s 5ms/step - loss: 8.6840 - crf_viterbi_accuracy: 0.9663 - val_loss: 8.7514 - val_crf_viterbi_accuracy: 0.9639\n",
            "Epoch 4/5\n",
            "38846/38846 [==============================] - 216s 6ms/step - loss: 8.6721 - crf_viterbi_accuracy: 0.9700 - val_loss: 8.7465 - val_crf_viterbi_accuracy: 0.9651\n",
            "Epoch 5/5\n",
            "38846/38846 [==============================] - 216s 6ms/step - loss: 8.6657 - crf_viterbi_accuracy: 0.9722 - val_loss: 8.7432 - val_crf_viterbi_accuracy: 0.9650\n"
          ],
          "name": "stdout"
        }
      ]
    },
    {
      "cell_type": "markdown",
      "metadata": {
        "id": "PYujnQYdsY12"
      },
      "source": [
        "Use the trained model to predict the tags of sentences in the test dataset"
      ],
      "id": "PYujnQYdsY12"
    },
    {
      "cell_type": "code",
      "metadata": {
        "colab": {
          "base_uri": "https://localhost:8080/"
        },
        "id": "5dKLeFYuaX-O",
        "outputId": "a15d5ef4-b570-4d03-9e5e-0db2272c9de6"
      },
      "source": [
        "test_pred = model.predict(X_te, verbose=1)"
      ],
      "id": "5dKLeFYuaX-O",
      "execution_count": 23,
      "outputs": [
        {
          "output_type": "stream",
          "text": [
            "4796/4796 [==============================] - 8s 2ms/step\n"
          ],
          "name": "stdout"
        }
      ]
    },
    {
      "cell_type": "markdown",
      "metadata": {
        "id": "JHxZJkKctnFb"
      },
      "source": [
        "Try out the model on a single sentence fom the test dataset. The output from the model are the numerical labels that we converted the input into before. So as these labels are the indices of the actual list of words and tags, it is used to display the words and their corresponding tags by getting the right element from the lists"
      ],
      "id": "JHxZJkKctnFb"
    },
    {
      "cell_type": "code",
      "metadata": {
        "colab": {
          "base_uri": "https://localhost:8080/"
        },
        "id": "poDmSu70alOa",
        "outputId": "4fb1f9f7-4ebf-4f72-e37a-484c7b4c3321"
      },
      "source": [
        "#print(classification_report(test_labels, pred_labels))\n",
        "i = 1928\n",
        "p = model.predict(np.array([X_te[i]]))\n",
        "p = np.argmax(p, axis=-1)\n",
        "true = np.argmax(y_te[i], -1)\n",
        "print(\"{:15}||{:5}||{}\".format(\"Word\", \"True\", \"Pred\")) # Create a table form with the pipe symbol (|)\n",
        "print(30 * \"=\")\n",
        "for w, t, pred in zip(X_te[i], true, p[0]):\n",
        "    if w != 0:\n",
        "        print(\"{:15}: {:5} {}\".format(words[w-1], tags[t], tags[pred]))"
      ],
      "id": "poDmSu70alOa",
      "execution_count": 26,
      "outputs": [
        {
          "output_type": "stream",
          "text": [
            "Word           ||True ||Pred\n",
            "==============================\n",
            "It             : O     O\n",
            "was            : O     O\n",
            "approved       : O     O\n",
            "after          : O     O\n",
            "the            : O     O\n",
            "European       : B-org B-org\n",
            "Union          : I-org I-org\n",
            "withdrew       : O     O\n",
            "a              : O     O\n",
            "more           : O     O\n",
            "strongly       : O     O\n",
            "worded         : O     O\n",
            "document       : O     O\n",
            "that           : O     O\n",
            "would          : O     O\n",
            "have           : O     O\n",
            "condemned      : O     O\n",
            "the            : O     O\n",
            "Sudanese       : B-gpe B-gpe\n",
            "government     : O     O\n",
            "for            : O     O\n",
            "its            : O     O\n",
            "role           : O     O\n",
            "in             : O     O\n",
            "the            : O     O\n",
            "violence       : O     O\n",
            ".              : O     O\n"
          ],
          "name": "stdout"
        }
      ]
    },
    {
      "cell_type": "markdown",
      "metadata": {
        "id": "liFZNOIZ9j4D"
      },
      "source": [
        "Create a function to readily do NER on a random sentence"
      ],
      "id": "liFZNOIZ9j4D"
    },
    {
      "cell_type": "code",
      "metadata": {
        "id": "jtFRJpMcapj4"
      },
      "source": [
        "import re\n",
        "def predict(sent):\n",
        "  test_sentence = re.sub(\"[^\\w]\", \" \", sent).split()\n",
        "  x_test_sent = pad_sequences(sequences=[[word2idx.get(w, 0) for w in test_sentence]], padding=\"post\", value=0, maxlen=max_len)\n",
        "\n",
        "  p = model.predict(np.array([x_test_sent[0]]))\n",
        "  p = np.argmax(p, axis=-1)\n",
        "  print(\"{:15}||{}\".format(\"Word\", \"Prediction\"))\n",
        "  print(30 * \"=\")\n",
        "  for w, pred in zip(test_sentence, p[0]):\n",
        "      print(\"{:15}: {:5}\".format(w, tags[pred]))"
      ],
      "id": "jtFRJpMcapj4",
      "execution_count": 34,
      "outputs": []
    },
    {
      "cell_type": "code",
      "metadata": {
        "colab": {
          "base_uri": "https://localhost:8080/"
        },
        "id": "oZXibQrTatTs",
        "outputId": "42044cd8-a847-48c0-97a0-22c754e3414a"
      },
      "source": [
        "sentence= \"\"\"Hawking was a Fellow of the Royal Society, a lifetime member of the \n",
        "Pontifical Academy of Sciences, and a recipient of the Presidential Medal of Freedom, \n",
        "the highest civilian award in the United States. \"\"\"\n",
        "predict(sentence)"
      ],
      "id": "oZXibQrTatTs",
      "execution_count": 35,
      "outputs": [
        {
          "output_type": "stream",
          "text": [
            "Word           ||Prediction\n",
            "==============================\n",
            "Hawking        : B-gpe\n",
            "was            : O    \n",
            "a              : O    \n",
            "Fellow         : O    \n",
            "of             : O    \n",
            "the            : O    \n",
            "Royal          : B-org\n",
            "Society        : I-org\n",
            "a              : O    \n",
            "lifetime       : O    \n",
            "member         : O    \n",
            "of             : O    \n",
            "the            : O    \n",
            "Pontifical     : B-org\n",
            "Academy        : I-org\n",
            "of             : I-org\n",
            "Sciences       : I-org\n",
            "and            : O    \n",
            "a              : O    \n",
            "recipient      : O    \n",
            "of             : O    \n",
            "the            : O    \n",
            "Presidential   : O    \n",
            "Medal          : B-gpe\n",
            "of             : O    \n",
            "Freedom        : B-org\n",
            "the            : O    \n",
            "highest        : O    \n",
            "civilian       : O    \n",
            "award          : O    \n",
            "in             : O    \n",
            "the            : O    \n",
            "United         : B-geo\n",
            "States         : I-geo\n"
          ],
          "name": "stdout"
        }
      ]
    },
    {
      "cell_type": "markdown",
      "metadata": {
        "id": "pL1iMUbX7oDa"
      },
      "source": [
        "Save the model in *.h5* format so that it'll be available for later use"
      ],
      "id": "pL1iMUbX7oDa"
    },
    {
      "cell_type": "code",
      "metadata": {
        "id": "DGkPoFuVdYEm"
      },
      "source": [
        "filename = \"model1\"\n",
        "save_load_utils.save_all_weights(model,filename)"
      ],
      "id": "DGkPoFuVdYEm",
      "execution_count": null,
      "outputs": []
    },
    {
      "cell_type": "code",
      "metadata": {
        "id": "h8YvngHli4jT"
      },
      "source": [
        "save_load_utils.load_all_weights(model,\"model1\")"
      ],
      "id": "h8YvngHli4jT",
      "execution_count": null,
      "outputs": []
    }
  ]
}